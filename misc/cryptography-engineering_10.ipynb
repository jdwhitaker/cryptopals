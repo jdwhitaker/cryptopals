{
 "cells": [
  {
   "cell_type": "markdown",
   "metadata": {},
   "source": [
    "# 10.1"
   ]
  },
  {
   "cell_type": "code",
   "execution_count": 36,
   "metadata": {},
   "outputs": [],
   "source": [
    "def small_prime_list(n):\n",
    "    '''\n",
    "    Generate a list of primes less than or equal to n.\n",
    "    '''\n",
    "    assert 2 <= n <= 2**20\n",
    "    isprime = {i:1 for i in range(2, n+1)}\n",
    "    index = 2\n",
    "    while index**2 <= n:\n",
    "        # mark all multiples of the prime as non-prime\n",
    "        coef = 2\n",
    "        while coef * index <= n:\n",
    "            isprime[coef*index] = 0\n",
    "            coef += 1\n",
    "        # skip to the next prime\n",
    "        index += 1\n",
    "        while isprime[index] == 0:\n",
    "            index += 1\n",
    "    primes = [i for i in range(2, n+1) if isprime[i] == 1]\n",
    "    return primes"
   ]
  },
  {
   "cell_type": "code",
   "execution_count": 37,
   "metadata": {},
   "outputs": [
    {
     "name": "stdout",
     "output_type": "stream",
     "text": [
      "[2, 3, 5, 7, 11, 13, 17, 19, 23, 29, 31, 37, 41, 43, 47, 53, 59, 61, 67, 71, 73, 79, 83, 89, 97]\n"
     ]
    }
   ],
   "source": [
    "print(small_prime_list(100))"
   ]
  },
  {
   "cell_type": "code",
   "execution_count": 38,
   "metadata": {},
   "outputs": [
    {
     "name": "stdout",
     "output_type": "stream",
     "text": [
      "1 6.9141387939453125e-06\n",
      "2 7.867813110351562e-06\n",
      "3 5.245208740234375e-06\n",
      "4 7.152557373046875e-06\n",
      "5 9.059906005859375e-06\n",
      "6 1.6927719116210938e-05\n",
      "7 3.0994415283203125e-05\n",
      "8 5.698204040527344e-05\n",
      "9 0.0001380443572998047\n",
      "10 0.0003020763397216797\n",
      "11 0.0007898807525634766\n",
      "12 0.0013189315795898438\n",
      "13 0.0029001235961914062\n",
      "14 0.006297111511230469\n",
      "15 0.014531135559082031\n",
      "16 0.03029489517211914\n",
      "17 0.06939435005187988\n",
      "18 0.16624879837036133\n",
      "19 0.29175305366516113\n",
      "20 0.6054291725158691\n",
      "[(1, 6.9141387939453125e-06), (2, 7.867813110351562e-06), (3, 5.245208740234375e-06), (4, 7.152557373046875e-06), (5, 9.059906005859375e-06), (6, 1.6927719116210938e-05), (7, 3.0994415283203125e-05), (8, 5.698204040527344e-05), (9, 0.0001380443572998047), (10, 0.0003020763397216797), (11, 0.0007898807525634766), (12, 0.0013189315795898438), (13, 0.0029001235961914062), (14, 0.006297111511230469), (15, 0.014531135559082031), (16, 0.03029489517211914), (17, 0.06939435005187988), (18, 0.16624879837036133), (19, 0.29175305366516113), (20, 0.6054291725158691)]\n"
     ]
    }
   ],
   "source": [
    "import time\n",
    "\n",
    "times = []\n",
    "\n",
    "for i in range(1, 21):\n",
    "    start = time.time()\n",
    "    small_prime_list(2**i)\n",
    "    end = time.time()\n",
    "    duration = end - start\n",
    "    print(i, duration)\n",
    "    times.append((i, duration))\n",
    "\n",
    "print(times)"
   ]
  },
  {
   "cell_type": "code",
   "execution_count": 39,
   "metadata": {},
   "outputs": [
    {
     "data": {
      "image/png": "[encoded data removed]",
      "text/plain": [
       "<Figure size 640x480 with 1 Axes>"
      ]
     },
     "metadata": {},
     "output_type": "display_data"
    }
   ],
   "source": [
    "import matplotlib.pyplot\n",
    "\n",
    "X, y = zip(*times)\n",
    "\n",
    "matplotlib.pyplot.plot(X,y)\n",
    "matplotlib.pyplot.show()\n",
    "\n"
   ]
  },
  {
   "cell_type": "markdown",
   "metadata": {},
   "source": [
    "The sieve of erastothenes runs in exponential time with respect to the length of its input (the number of bits required to represent the input value)."
   ]
  },
  {
   "cell_type": "markdown",
   "metadata": {},
   "source": []
  },
  {
   "cell_type": "markdown",
   "metadata": {},
   "source": [
    "# 10.2"
   ]
  },
  {
   "cell_type": "code",
   "execution_count": 40,
   "metadata": {},
   "outputs": [
    {
     "name": "stdout",
     "output_type": "stream",
     "text": [
      "1046 1046\n"
     ]
    }
   ],
   "source": [
    "x1 = (((((13635 + 16060) % 29101) + 8190) % 29101) + 21363) % 29101\n",
    "x2 = (13635 + 16060 + 8190 + 21363) % 29101\n",
    "print(x1, x2)"
   ]
  },
  {
   "cell_type": "markdown",
   "metadata": {},
   "source": [
    "# 10.3"
   ]
  },
  {
   "cell_type": "code",
   "execution_count": 41,
   "metadata": {},
   "outputs": [
    {
     "name": "stdout",
     "output_type": "stream",
     "text": [
      "25392 25392\n"
     ]
    }
   ],
   "source": [
    "x1 = (((12358 * 1854) % 29101) * 14303) % 29101\n",
    "x2 = (12358 * 1854 * 14303) % 29101\n",
    "print(x1, x2)"
   ]
  },
  {
   "cell_type": "markdown",
   "metadata": {},
   "source": [
    "# 10.4\n",
    "\n",
    "{1,3,4} is not a subgroup of the multiplicative group of integers modulo 7"
   ]
  },
  {
   "cell_type": "code",
   "execution_count": 42,
   "metadata": {},
   "outputs": [
    {
     "name": "stdout",
     "output_type": "stream",
     "text": [
      "3 * 3 = 2\n",
      "3 * 4 = 5\n",
      "4 * 3 = 5\n",
      "4 * 4 = 2\n"
     ]
    }
   ],
   "source": [
    "subgroup = set([1,3,4])\n",
    "for i in subgroup:\n",
    "    for j in subgroup:\n",
    "        product = (i*j) % 7\n",
    "        if not (product in subgroup):\n",
    "            print(i, '*', j, '=', product)"
   ]
  },
  {
   "cell_type": "markdown",
   "metadata": {},
   "source": [
    "# 10.5"
   ]
  },
  {
   "cell_type": "code",
   "execution_count": 43,
   "metadata": {},
   "outputs": [],
   "source": [
    "def gcd(a,b):\n",
    "    assert a >= 0 and b >= 0\n",
    "    lesser,greater = sorted([a,b])\n",
    "    print(lesser,greater)\n",
    "    while lesser > 0:\n",
    "        lesser_next = greater % lesser\n",
    "        greater_next = lesser\n",
    "        print(lesser_next,greater_next)\n",
    "        lesser = lesser_next\n",
    "        greater = greater_next\n",
    "    return greater"
   ]
  },
  {
   "cell_type": "code",
   "execution_count": 44,
   "metadata": {},
   "outputs": [
    {
     "name": "stdout",
     "output_type": "stream",
     "text": [
      "91261 117035\n",
      "25774 91261\n",
      "13939 25774\n",
      "11835 13939\n",
      "2104 11835\n",
      "1315 2104\n",
      "789 1315\n",
      "526 789\n",
      "263 526\n",
      "0 263\n",
      "263\n"
     ]
    }
   ],
   "source": [
    "print(gcd(91261, 117035))"
   ]
  },
  {
   "cell_type": "markdown",
   "metadata": {},
   "source": [
    "# 10.6"
   ]
  },
  {
   "cell_type": "code",
   "execution_count": 45,
   "metadata": {},
   "outputs": [],
   "source": [
    "import math\n",
    "\n",
    "def extended_gcd(a, b):\n",
    "    assert a >= 0 and b >= 0\n",
    "    a_original, b_original = sorted([a,b])\n",
    "    a = a_original\n",
    "    b = b_original\n",
    "    coef_a = 1\n",
    "    coef_b = 0\n",
    "    while a > 0:\n",
    "        q = math.floor(b / a) # quotient\n",
    "        print(f'quotient: {q}')\n",
    "        r = b % a\n",
    "        print(f'remainder: {r}')\n",
    "        b = a\n",
    "        a = r\n",
    "        coef_a_saved = coef_a\n",
    "        coef_a = coef_b - q * coef_a\n",
    "        coef_b = coef_a_saved\n",
    "        print(f\"({coef_a} * {a_original}) + ({coef_b} * {b_original}) (mod {b_original}) = {(coef_a * a_original + coef_b * b_original) % b_original}\")\n",
    "        assert (coef_a * a_original + coef_b * b_original) % b_original == r\n",
    "    print(f'inverse of {a_original} (mod {b_original}) is {coef_b}, because {coef_b} * {a_original} = {(coef_b * a_original) % b_original}')\n",
    "    return coef_b"
   ]
  },
  {
   "cell_type": "code",
   "execution_count": 46,
   "metadata": {},
   "outputs": [
    {
     "name": "stdout",
     "output_type": "stream",
     "text": [
      "quotient: 2\n",
      "remainder: 19\n",
      "(-2 * 74) + (1 * 167) (mod 167) = 19\n",
      "quotient: 3\n",
      "remainder: 17\n",
      "(7 * 74) + (-2 * 167) (mod 167) = 17\n",
      "quotient: 1\n",
      "remainder: 2\n",
      "(-9 * 74) + (7 * 167) (mod 167) = 2\n",
      "quotient: 8\n",
      "remainder: 1\n",
      "(79 * 74) + (-9 * 167) (mod 167) = 1\n",
      "quotient: 2\n",
      "remainder: 0\n",
      "(-167 * 74) + (79 * 167) (mod 167) = 0\n",
      "inverse of 74 (mod 167) is 79, because 79 * 74 = 1\n",
      "1\n"
     ]
    }
   ],
   "source": [
    "inverse_a = extended_gcd(74,167)\n",
    "print((inverse_a * 74) % 167)"
   ]
  },
  {
   "cell_type": "markdown",
   "metadata": {},
   "source": [
    "# 10.7"
   ]
  },
  {
   "cell_type": "code",
   "execution_count": 47,
   "metadata": {},
   "outputs": [],
   "source": [
    "import math \n",
    "import random\n",
    "\n",
    "def rabin_miller(n):\n",
    "  assert n >= 3\n",
    "  assert n % 2 == 1\n",
    "  s, t = n-1, 0\n",
    "  while s % 2 == 0:\n",
    "    s, t = s//2, t+1\n",
    "  k  = 0\n",
    "  while k < 128:\n",
    "    a = random.randint(2, n-1)\n",
    "    v = pow(a, s, n)\n",
    "    if v != 1:\n",
    "      i = 0\n",
    "      while v != n-1:\n",
    "        if i == t - 1:\n",
    "          return False\n",
    "        else:\n",
    "          v, i = v**2 % n, i + 1\n",
    "    k = k + 2\n",
    "  return True\n",
    "\n",
    "small_primes = None\n",
    "\n",
    "def is_prime(n):\n",
    "  global small_primes\n",
    "  assert n >= 3\n",
    "  if small_primes == None:\n",
    "    small_primes = small_prime_list(1_000)\n",
    "  for p in small_primes:\n",
    "    if n % p == 0:\n",
    "      return p == n\n",
    "  return rabin_miller(n)\n",
    "\n",
    "def generate_large_prime(l, u):\n",
    "    assert 2 < l <= u\n",
    "    max_attempts = int(100 * (math.log(u, 2) + 1))\n",
    "    for i in range(max_attempts):\n",
    "      n = random.randint(l, u)\n",
    "      if is_prime(n): return n\n"
   ]
  },
  {
   "cell_type": "code",
   "execution_count": 48,
   "metadata": {},
   "outputs": [
    {
     "data": {
      "text/plain": [
       "114764214449734298891678200620174914983585236123675670014267661636445351632937"
      ]
     },
     "execution_count": 48,
     "metadata": {},
     "output_type": "execute_result"
    }
   ],
   "source": [
    "generate_large_prime(2**255, 2**256-1)"
   ]
  },
  {
   "cell_type": "markdown",
   "metadata": {},
   "source": [
    "# 10.7"
   ]
  },
  {
   "cell_type": "code",
   "execution_count": 49,
   "metadata": {},
   "outputs": [
    {
     "name": "stdout",
     "output_type": "stream",
     "text": [
      "double 51\n",
      "double 53\n",
      "multiply 47\n",
      "double 25\n",
      "double 79\n",
      "double 53\n",
      "multiply 47\n",
      "double 25\n"
     ]
    }
   ],
   "source": [
    "import math\n",
    "def mypow(base, exponent, modulus):\n",
    "  actions = []\n",
    "  i = exponent\n",
    "  while i > 1:\n",
    "    if i % 2 == 0:\n",
    "      actions.append('double')\n",
    "      i = i // 2\n",
    "    else:\n",
    "      actions.append('multiply')\n",
    "      i = i - 1\n",
    "  out = base\n",
    "  while len(actions) > 0:\n",
    "    action = actions.pop()\n",
    "    if action == 'double':\n",
    "      out *= out \n",
    "    else:\n",
    "      out *= base \n",
    "    out = out % modulus\n",
    "    print(action, out)\n",
    "  return out\n",
    "\n",
    "correct = pow(73,82,91)\n",
    "given = mypow(73,82,91)\n",
    "assert given == correct"
   ]
  },
  {
   "cell_type": "markdown",
   "metadata": {},
   "source": [
    "# 10.9"
   ]
  },
  {
   "cell_type": "code",
   "execution_count": 50,
   "metadata": {},
   "outputs": [
    {
     "name": "stdout",
     "output_type": "stream",
     "text": [
      "double 160\n",
      "double 564\n",
      "double 25\n",
      "double 56\n",
      "multiply 374\n",
      "double 471\n",
      "multiply 199\n"
     ]
    },
    {
     "data": {
      "text/plain": [
       "199"
      ]
     },
     "execution_count": 50,
     "metadata": {},
     "output_type": "execute_result"
    }
   ],
   "source": [
    "mypow(27, 35, 569)"
   ]
  },
  {
   "cell_type": "markdown",
   "metadata": {},
   "source": [
    "7 multiplications"
   ]
  },
  {
   "cell_type": "markdown",
   "metadata": {},
   "source": []
  }
 ],
 "metadata": {
  "kernelspec": {
   "display_name": "Python 3",
   "language": "python",
   "name": "python3"
  },
  "language_info": {
   "codemirror_mode": {
    "name": "ipython",
    "version": 3
   },
   "file_extension": ".py",
   "mimetype": "text/x-python",
   "name": "python",
   "nbconvert_exporter": "python",
   "pygments_lexer": "ipython3",
   "version": "3.9.6"
  }
 },
 "nbformat": 4,
 "nbformat_minor": 2
}
