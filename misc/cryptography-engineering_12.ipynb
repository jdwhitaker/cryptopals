{
 "cells": [
  {
   "cell_type": "markdown",
   "metadata": {},
   "source": [
    "# 12.1"
   ]
  },
  {
   "cell_type": "code",
   "execution_count": 32,
   "metadata": {},
   "outputs": [
    {
     "name": "stdout",
     "output_type": "stream",
     "text": [
      "inverse of 107 (mod 89) is 5, because 5 * 107 = 1\n",
      "8458\n"
     ]
    }
   ],
   "source": [
    "import math\n",
    "\n",
    "def extended_gcd(a, b):\n",
    "    assert a >= 0 and b >= 0\n",
    "    a_original = a\n",
    "    b_original = b\n",
    "    coef_a = 1\n",
    "    coef_b = 0\n",
    "    while a > 0:\n",
    "        q = math.floor(b / a) # quotient\n",
    "        r = b % a\n",
    "        b = a\n",
    "        a = r\n",
    "        coef_a_saved = coef_a\n",
    "        coef_a = coef_b - q * coef_a\n",
    "        coef_b = coef_a_saved\n",
    "        assert (coef_a * a_original + coef_b * b_original) % b_original == r % b_original\n",
    "    print(f'inverse of {a_original} (mod {b_original}) is {coef_b}, because {coef_b} * {a_original} = {(coef_b * a_original) % b_original}')\n",
    "    return coef_b\n",
    "\n",
    "def garners_formula(p, q, a, b):\n",
    "    inv_q = extended_gcd(q, p)\n",
    "    return (((a - b) * (inv_q % p ))% p) * q + b\n",
    "\n",
    "p = 89\n",
    "q = 107\n",
    "n = p * q\n",
    "a = 3\n",
    "b = 5\n",
    "x = garners_formula(p, q, a, b)\n",
    "print(x)\n",
    "assert x % p == 3\n",
    "assert x % q == 5"
   ]
  },
  {
   "cell_type": "markdown",
   "metadata": {},
   "source": [
    "# 12.2"
   ]
  },
  {
   "cell_type": "code",
   "execution_count": 37,
   "metadata": {},
   "outputs": [
    {
     "name": "stdout",
     "output_type": "stream",
     "text": [
      "inverse of 107 (mod 89) is 5, because 5 * 107 = 1\n",
      "1204 1204\n"
     ]
    }
   ],
   "source": [
    "p = 89\n",
    "q = 107\n",
    "n = p*q\n",
    "x = 1796\n",
    "y = 8931\n",
    "\n",
    "result = (x + y) % n\n",
    "\n",
    "x_crt = (x%p, x%q)\n",
    "y_crt = (y%p, y%q)\n",
    "result_crt = tuple([x_ + y_ for x_, y_ in zip(list(x_crt), list(y_crt))])\n",
    "result_crt = garners_formula(p, q, result_crt[0], result_crt[1]) % n\n",
    "print(result, result_crt)\n",
    "assert result_crt == result"
   ]
  },
  {
   "cell_type": "markdown",
   "metadata": {},
   "source": [
    "# 12.3"
   ]
  },
  {
   "cell_type": "code",
   "execution_count": 36,
   "metadata": {},
   "outputs": [
    {
     "name": "stdout",
     "output_type": "stream",
     "text": [
      "inverse of 107 (mod 89) is 5, because 5 * 107 = 1\n",
      "3344 12867\n"
     ]
    },
    {
     "ename": "AssertionError",
     "evalue": "",
     "output_type": "error",
     "traceback": [
      "\u001b[0;31m---------------------------------------------------------------------------\u001b[0m",
      "\u001b[0;31mAssertionError\u001b[0m                            Traceback (most recent call last)",
      "Cell \u001b[0;32mIn[36], line 14\u001b[0m\n\u001b[1;32m     12\u001b[0m result_crt \u001b[38;5;241m=\u001b[39m garners_formula(p, q, result_crt[\u001b[38;5;241m0\u001b[39m], result_crt[\u001b[38;5;241m1\u001b[39m])\n\u001b[1;32m     13\u001b[0m \u001b[38;5;28mprint\u001b[39m(result, result_crt)\n\u001b[0;32m---> 14\u001b[0m \u001b[38;5;28;01massert\u001b[39;00m result_crt \u001b[38;5;241m==\u001b[39m result\n",
      "\u001b[0;31mAssertionError\u001b[0m: "
     ]
    }
   ],
   "source": [
    "p = 89\n",
    "q = 107\n",
    "n = p*q\n",
    "x = 1796\n",
    "y = 8931\n",
    "\n",
    "result = (x * y) % n\n",
    "\n",
    "x_crt = (x%p, x%q)\n",
    "y_crt = (y%p, y%q)\n",
    "result_crt = tuple([x_ * y_ for x_, y_ in zip(list(x_crt), list(y_crt))])\n",
    "result_crt = garners_formula(p, q, result_crt[0], result_crt[1]) % n\n",
    "print(result, result_crt)\n",
    "assert result_crt == result"
   ]
  }
 ],
 "metadata": {
  "kernelspec": {
   "display_name": "Python 3",
   "language": "python",
   "name": "python3"
  },
  "language_info": {
   "codemirror_mode": {
    "name": "ipython",
    "version": 3
   },
   "file_extension": ".py",
   "mimetype": "text/x-python",
   "name": "python",
   "nbconvert_exporter": "python",
   "pygments_lexer": "ipython3",
   "version": "3.9.6"
  }
 },
 "nbformat": 4,
 "nbformat_minor": 2
}
