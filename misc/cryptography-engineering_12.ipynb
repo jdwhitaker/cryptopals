{
 "cells": [
  {
   "cell_type": "markdown",
   "metadata": {},
   "source": [
    "# 12.1"
   ]
  },
  {
   "cell_type": "code",
   "execution_count": 56,
   "metadata": {},
   "outputs": [
    {
     "name": "stdout",
     "output_type": "stream",
     "text": [
      "inverse of 107 (mod 89) is 5, because 5 * 107 = 1\n",
      "8458\n"
     ]
    }
   ],
   "source": [
    "import math\n",
    "\n",
    "def extended_gcd(a, b):\n",
    "    assert a >= 0 and b >= 0\n",
    "    a_original = a\n",
    "    b_original = b\n",
    "    coef_a = 1\n",
    "    coef_b = 0\n",
    "    while a > 0:\n",
    "        q = math.floor(b / a) # quotient\n",
    "        r = b % a\n",
    "        b = a\n",
    "        a = r\n",
    "        coef_a_saved = coef_a\n",
    "        coef_a = coef_b - q * coef_a\n",
    "        coef_b = coef_a_saved\n",
    "        assert (coef_a * a_original + coef_b * b_original) % b_original == r % b_original\n",
    "    print(f'inverse of {a_original} (mod {b_original}) is {coef_b}, because {coef_b} * {a_original} = {(coef_b * a_original) % b_original}')\n",
    "    assert b == 1\n",
    "    return coef_b\n",
    "\n",
    "def garners_formula(p, q, a, b):\n",
    "    inv_q = extended_gcd(q, p)\n",
    "    return (((a - b) * (inv_q % p ))% p) * q + b\n",
    "\n",
    "p = 89\n",
    "q = 107\n",
    "n = p * q\n",
    "a = 3\n",
    "b = 5\n",
    "x = garners_formula(p, q, a, b)\n",
    "print(x)\n",
    "assert x % p == 3\n",
    "assert x % q == 5"
   ]
  },
  {
   "cell_type": "markdown",
   "metadata": {},
   "source": [
    "# 12.2"
   ]
  },
  {
   "cell_type": "code",
   "execution_count": 57,
   "metadata": {},
   "outputs": [
    {
     "name": "stdout",
     "output_type": "stream",
     "text": [
      "inverse of 107 (mod 89) is 5, because 5 * 107 = 1\n",
      "1204 1204\n"
     ]
    }
   ],
   "source": [
    "p = 89\n",
    "q = 107\n",
    "n = p*q\n",
    "x = 1796\n",
    "y = 8931\n",
    "\n",
    "result = (x + y) % n\n",
    "\n",
    "x_crt = (x%p, x%q)\n",
    "y_crt = (y%p, y%q)\n",
    "result_crt = tuple([x_ + y_ for x_, y_ in zip(list(x_crt), list(y_crt))])\n",
    "result_crt = garners_formula(p, q, result_crt[0], result_crt[1]) % n\n",
    "print(result, result_crt)\n",
    "assert result_crt == result"
   ]
  },
  {
   "cell_type": "markdown",
   "metadata": {},
   "source": [
    "# 12.3"
   ]
  },
  {
   "cell_type": "code",
   "execution_count": 58,
   "metadata": {},
   "outputs": [
    {
     "name": "stdout",
     "output_type": "stream",
     "text": [
      "inverse of 107 (mod 89) is 5, because 5 * 107 = 1\n",
      "3344 3344\n"
     ]
    }
   ],
   "source": [
    "p = 89\n",
    "q = 107\n",
    "n = p*q\n",
    "x = 1796\n",
    "y = 8931\n",
    "\n",
    "result = (x * y) % n\n",
    "\n",
    "x_crt = (x%p, x%q)\n",
    "y_crt = (y%p, y%q)\n",
    "result_crt = tuple([x_ * y_ for x_, y_ in zip(list(x_crt), list(y_crt))])\n",
    "result_crt = garners_formula(p, q, result_crt[0], result_crt[1]) % n\n",
    "print(result, result_crt)\n",
    "assert result_crt == result"
   ]
  },
  {
   "cell_type": "markdown",
   "metadata": {},
   "source": [
    "# 12.3"
   ]
  },
  {
   "cell_type": "code",
   "execution_count": 59,
   "metadata": {},
   "outputs": [
    {
     "name": "stdout",
     "output_type": "stream",
     "text": [
      "inverse of 3 (mod 4100) is 1367, because 1367 * 3 = 1\n",
      "3 1367 4100 8383\n"
     ]
    }
   ],
   "source": [
    "def gcd(a, b):\n",
    "    assert a >= 0 and b >= 0\n",
    "    a_original = a\n",
    "    b_original = b\n",
    "    coef_a = 1\n",
    "    coef_b = 0\n",
    "    while a > 0:\n",
    "        q = math.floor(b / a) # quotient\n",
    "        r = b % a\n",
    "        b = a\n",
    "        a = r\n",
    "        coef_a_saved = coef_a\n",
    "        coef_a = coef_b - q * coef_a\n",
    "        coef_b = coef_a_saved\n",
    "        assert (coef_a * a_original + coef_b * b_original) % b_original == r % b_original\n",
    "    return b\n",
    "\n",
    "p=83\n",
    "q=101\n",
    "n=p*q\n",
    "e=3\n",
    "\n",
    "t = int(((p-1)*(q-1)) / gcd(p-1, q-1))\n",
    "d = extended_gcd(e, t)\n",
    "print(e, d, t, n)\n",
    "\n",
    "assert pow(pow(1234, e, n), d, n) == 1234"
   ]
  },
  {
   "cell_type": "markdown",
   "metadata": {},
   "source": [
    "# 12.5"
   ]
  },
  {
   "cell_type": "code",
   "execution_count": 61,
   "metadata": {},
   "outputs": [
    {
     "name": "stdout",
     "output_type": "stream",
     "text": [
      "inverse of 3 (mod 3432) is 1, because 1 * 3 = 3\n",
      "\n",
      "e is not coprime with t, so there is no inverse d of e.\n"
     ]
    }
   ],
   "source": [
    "p=79\n",
    "q=89\n",
    "n=p*q\n",
    "e=3\n",
    "\n",
    "t = int(((p-1)*(q-1)) / gcd(p-1, q-1))\n",
    "try:\n",
    "  d = extended_gcd(e, t)\n",
    "  print(e, d, t, n)\n",
    "  assert pow(pow(1234, e, n), d, n) == 1234\n",
    "except Exception as e:\n",
    "  print(e)\n",
    "  print(\"e is not coprime with t, so there is no inverse d of e.\")"
   ]
  },
  {
   "cell_type": "markdown",
   "metadata": {},
   "source": [
    "# 12.8"
   ]
  },
  {
   "cell_type": "code",
   "execution_count": 65,
   "metadata": {},
   "outputs": [
    {
     "name": "stdout",
     "output_type": "stream",
     "text": [
      "inverse of 3 (mod 3080) is 1027, because 1027 * 3 = 1\n",
      "5830 5830\n"
     ]
    }
   ],
   "source": [
    "p = 71\n",
    "q = 89\n",
    "n = p*q\n",
    "e = 3\n",
    "m1 = 5416\n",
    "m2 = 2397\n",
    "m3 = (m1*m2)%n\n",
    "\n",
    "t = int(((p-1)*(q-1)) / gcd(p-1, q-1))\n",
    "d = extended_gcd(e, t)\n",
    "\n",
    "sig1 = pow(m1,d,n)\n",
    "sig2 = pow(m2,d,n)\n",
    "sig3 = pow(m3,d,n)\n",
    "\n",
    "r1 = (sig1*sig2)%n\n",
    "r2 = sig3%n\n",
    "print(r1, r2)\n",
    "assert r1 == r2"
   ]
  },
  {
   "cell_type": "markdown",
   "metadata": {},
   "source": [
    "Using RSA naively, you can forge a signature of the product of 2 signed messages by multiplying their signatures."
   ]
  }
 ],
 "metadata": {
  "kernelspec": {
   "display_name": "Python 3",
   "language": "python",
   "name": "python3"
  },
  "language_info": {
   "codemirror_mode": {
    "name": "ipython",
    "version": 3
   },
   "file_extension": ".py",
   "mimetype": "text/x-python",
   "name": "python",
   "nbconvert_exporter": "python",
   "pygments_lexer": "ipython3",
   "version": "3.9.6"
  }
 },
 "nbformat": 4,
 "nbformat_minor": 2
}
